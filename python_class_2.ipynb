{
  "cells": [
    {
      "cell_type": "code",
      "source": [
        "x=\"Data\"\n",
        "len(x)"
      ],
      "metadata": {
        "id": "5GV1_11YLPGj",
        "colab": {
          "base_uri": "https://localhost:8080/"
        },
        "outputId": "afcd32d7-5790-4998-e9c3-751bcaf37921"
      },
      "execution_count": null,
      "outputs": [
        {
          "output_type": "execute_result",
          "data": {
            "text/plain": [
              "4"
            ]
          },
          "metadata": {},
          "execution_count": 3
        }
      ]
    },
    {
      "cell_type": "code",
      "source": [
        "x.upper()"
      ],
      "metadata": {
        "id": "VxhvmWmLma1c",
        "colab": {
          "base_uri": "https://localhost:8080/",
          "height": 36
        },
        "outputId": "b4e85919-974f-4654-f8bf-ac9078526fac"
      },
      "execution_count": null,
      "outputs": [
        {
          "output_type": "execute_result",
          "data": {
            "text/plain": [
              "'DATA'"
            ],
            "application/vnd.google.colaboratory.intrinsic+json": {
              "type": "string"
            }
          },
          "metadata": {},
          "execution_count": 4
        }
      ]
    },
    {
      "cell_type": "code",
      "source": [
        "x=\"data scinece\"\n",
        "x.find(\"s\")"
      ],
      "metadata": {
        "id": "8q6-VBZOma45",
        "colab": {
          "base_uri": "https://localhost:8080/"
        },
        "outputId": "e2bf50c7-c339-401d-bc20-52fba3720084"
      },
      "execution_count": null,
      "outputs": [
        {
          "output_type": "execute_result",
          "data": {
            "text/plain": [
              "5"
            ]
          },
          "metadata": {},
          "execution_count": 5
        }
      ]
    },
    {
      "cell_type": "code",
      "source": [
        "x=\"Data science\"\n",
        "x.find(\"enct\")"
      ],
      "metadata": {
        "id": "oHtuTpFkmbHE",
        "colab": {
          "base_uri": "https://localhost:8080/"
        },
        "outputId": "a11ce756-4b99-4e1c-8bec-0a3c6aed7ea7"
      },
      "execution_count": null,
      "outputs": [
        {
          "output_type": "execute_result",
          "data": {
            "text/plain": [
              "-1"
            ]
          },
          "metadata": {},
          "execution_count": 6
        }
      ]
    },
    {
      "cell_type": "code",
      "source": [
        "x=\"Data science\"\n",
        "x.index(\"x\")"
      ],
      "metadata": {
        "id": "l6uasrEVmbJ6",
        "colab": {
          "base_uri": "https://localhost:8080/",
          "height": 164
        },
        "outputId": "9b9a55dc-2ca0-4321-d65f-81afed3f9892"
      },
      "execution_count": null,
      "outputs": [
        {
          "output_type": "error",
          "ename": "ValueError",
          "evalue": "substring not found",
          "traceback": [
            "\u001b[0;31m---------------------------------------------------------------------------\u001b[0m",
            "\u001b[0;31mValueError\u001b[0m                                Traceback (most recent call last)",
            "\u001b[0;32m<ipython-input-7-53e911762777>\u001b[0m in \u001b[0;36m<cell line: 0>\u001b[0;34m()\u001b[0m\n\u001b[1;32m      1\u001b[0m \u001b[0mx\u001b[0m\u001b[0;34m=\u001b[0m\u001b[0;34m\"Data science\"\u001b[0m\u001b[0;34m\u001b[0m\u001b[0;34m\u001b[0m\u001b[0m\n\u001b[0;32m----> 2\u001b[0;31m \u001b[0mx\u001b[0m\u001b[0;34m.\u001b[0m\u001b[0mindex\u001b[0m\u001b[0;34m(\u001b[0m\u001b[0;34m\"x\"\u001b[0m\u001b[0;34m)\u001b[0m\u001b[0;34m\u001b[0m\u001b[0;34m\u001b[0m\u001b[0m\n\u001b[0m",
            "\u001b[0;31mValueError\u001b[0m: substring not found"
          ]
        }
      ]
    },
    {
      "cell_type": "code",
      "source": [
        "x= \" data \"\n",
        "len(x)"
      ],
      "metadata": {
        "id": "bsBCyX-gmbNa",
        "colab": {
          "base_uri": "https://localhost:8080/"
        },
        "outputId": "b4425f54-b092-41e4-87d7-aba9015ee0e8"
      },
      "execution_count": null,
      "outputs": [
        {
          "output_type": "execute_result",
          "data": {
            "text/plain": [
              "6"
            ]
          },
          "metadata": {},
          "execution_count": 9
        }
      ]
    },
    {
      "cell_type": "code",
      "source": [
        "x.strip()"
      ],
      "metadata": {
        "id": "uw7e1wNvmbVp",
        "colab": {
          "base_uri": "https://localhost:8080/",
          "height": 36
        },
        "outputId": "580c76e3-0c3a-4ae6-9bfc-6d4b0e1f6316"
      },
      "execution_count": null,
      "outputs": [
        {
          "output_type": "execute_result",
          "data": {
            "text/plain": [
              "'data'"
            ],
            "application/vnd.google.colaboratory.intrinsic+json": {
              "type": "string"
            }
          },
          "metadata": {},
          "execution_count": 10
        }
      ]
    },
    {
      "cell_type": "code",
      "source": [
        "x.lstrip()"
      ],
      "metadata": {
        "id": "B5P9B6jLmbYJ",
        "colab": {
          "base_uri": "https://localhost:8080/",
          "height": 36
        },
        "outputId": "99940922-8e82-4e8b-e8d8-12aed2199e0c"
      },
      "execution_count": null,
      "outputs": [
        {
          "output_type": "execute_result",
          "data": {
            "text/plain": [
              "'data '"
            ],
            "application/vnd.google.colaboratory.intrinsic+json": {
              "type": "string"
            }
          },
          "metadata": {},
          "execution_count": 12
        }
      ]
    },
    {
      "cell_type": "code",
      "source": [
        "x.rstrip()"
      ],
      "metadata": {
        "id": "wegY3A8Zmbat",
        "colab": {
          "base_uri": "https://localhost:8080/",
          "height": 36
        },
        "outputId": "58d3241a-77d0-4d16-c6b6-2a2b5957f9ff"
      },
      "execution_count": null,
      "outputs": [
        {
          "output_type": "execute_result",
          "data": {
            "text/plain": [
              "' data'"
            ],
            "application/vnd.google.colaboratory.intrinsic+json": {
              "type": "string"
            }
          },
          "metadata": {},
          "execution_count": 13
        }
      ]
    },
    {
      "cell_type": "code",
      "source": [
        "x=\"DataD\"\n",
        "x.replace(\"D\",\"XYZ\")"
      ],
      "metadata": {
        "id": "pH908LZzmbdE",
        "colab": {
          "base_uri": "https://localhost:8080/",
          "height": 36
        },
        "outputId": "f3aee163-c5c7-4aab-8847-70efe7f6a890"
      },
      "execution_count": null,
      "outputs": [
        {
          "output_type": "execute_result",
          "data": {
            "text/plain": [
              "'XYZataXYZ'"
            ],
            "application/vnd.google.colaboratory.intrinsic+json": {
              "type": "string"
            }
          },
          "metadata": {},
          "execution_count": 17
        }
      ]
    },
    {
      "cell_type": "code",
      "source": [
        "x=\"data\""
      ],
      "metadata": {
        "id": "jIt7Ib2fmbfj"
      },
      "execution_count": null,
      "outputs": []
    },
    {
      "cell_type": "code",
      "source": [
        "x.center(8,\" \")"
      ],
      "metadata": {
        "id": "hLkJtJcEmbiD",
        "colab": {
          "base_uri": "https://localhost:8080/",
          "height": 36
        },
        "outputId": "fab66b0c-a171-46cf-a13b-311429dc3d23"
      },
      "execution_count": null,
      "outputs": [
        {
          "output_type": "execute_result",
          "data": {
            "text/plain": [
              "'  data  '"
            ],
            "application/vnd.google.colaboratory.intrinsic+json": {
              "type": "string"
            }
          },
          "metadata": {},
          "execution_count": 22
        }
      ]
    },
    {
      "cell_type": "code",
      "source": [
        "x=\"21\"\n",
        "x.zfill(7)"
      ],
      "metadata": {
        "id": "1q2f-G3gmbkV",
        "colab": {
          "base_uri": "https://localhost:8080/",
          "height": 36
        },
        "outputId": "6c9b32d2-bb78-4e93-867c-79d9086c3d2c"
      },
      "execution_count": null,
      "outputs": [
        {
          "output_type": "execute_result",
          "data": {
            "text/plain": [
              "'0000021'"
            ],
            "application/vnd.google.colaboratory.intrinsic+json": {
              "type": "string"
            }
          },
          "metadata": {},
          "execution_count": 24
        }
      ]
    },
    {
      "cell_type": "code",
      "source": [
        "x=''' data\n",
        "science'''"
      ],
      "metadata": {
        "id": "Fidsg8Rhmbm9"
      },
      "execution_count": null,
      "outputs": []
    },
    {
      "cell_type": "code",
      "source": [
        "x"
      ],
      "metadata": {
        "id": "aOeDP0BhmbqJ",
        "colab": {
          "base_uri": "https://localhost:8080/",
          "height": 36
        },
        "outputId": "68cc559f-8b77-40de-bf96-b770a97a2214"
      },
      "execution_count": null,
      "outputs": [
        {
          "output_type": "execute_result",
          "data": {
            "text/plain": [
              "' data\\nscience'"
            ],
            "application/vnd.google.colaboratory.intrinsic+json": {
              "type": "string"
            }
          },
          "metadata": {},
          "execution_count": 27
        }
      ]
    },
    {
      "cell_type": "code",
      "source": [
        "x.split()\n",
        "\n"
      ],
      "metadata": {
        "id": "IZEIjLCTmbtn",
        "colab": {
          "base_uri": "https://localhost:8080/"
        },
        "outputId": "ce514b9c-babd-4063-80f9-e0ccaf380cb0"
      },
      "execution_count": null,
      "outputs": [
        {
          "output_type": "execute_result",
          "data": {
            "text/plain": [
              "['data', 'science']"
            ]
          },
          "metadata": {},
          "execution_count": 28
        }
      ]
    },
    {
      "cell_type": "code",
      "source": [
        "x='data \\nscience'\n",
        "x.splitlines()"
      ],
      "metadata": {
        "id": "egvQBbI8LPDA",
        "colab": {
          "base_uri": "https://localhost:8080/"
        },
        "outputId": "f243beae-028f-45ca-dc19-41d6f497f024"
      },
      "execution_count": null,
      "outputs": [
        {
          "output_type": "execute_result",
          "data": {
            "text/plain": [
              "['data ', 'science']"
            ]
          },
          "metadata": {},
          "execution_count": 30
        }
      ]
    },
    {
      "cell_type": "code",
      "source": [
        "\"seperator\".join(string)"
      ],
      "metadata": {
        "id": "7YA4nyY2LO_k"
      },
      "execution_count": null,
      "outputs": []
    },
    {
      "cell_type": "code",
      "source": [
        "\",\".join(\"data\")"
      ],
      "metadata": {
        "id": "HeY17JAQLO78",
        "colab": {
          "base_uri": "https://localhost:8080/",
          "height": 36
        },
        "outputId": "23021ff7-67ee-41e5-fb23-9fa55311ea1d"
      },
      "execution_count": null,
      "outputs": [
        {
          "output_type": "execute_result",
          "data": {
            "text/plain": [
              "'d,a,t,a'"
            ],
            "application/vnd.google.colaboratory.intrinsic+json": {
              "type": "string"
            }
          },
          "metadata": {},
          "execution_count": 31
        }
      ]
    },
    {
      "cell_type": "code",
      "source": [
        "\"_\".join(\"hello\")"
      ],
      "metadata": {
        "id": "KUnPDcxZLO0F",
        "colab": {
          "base_uri": "https://localhost:8080/",
          "height": 36
        },
        "outputId": "eec972d3-e478-47bf-fcdd-b25fd332f664"
      },
      "execution_count": null,
      "outputs": [
        {
          "output_type": "execute_result",
          "data": {
            "text/plain": [
              "'h_e_l_l_o'"
            ],
            "application/vnd.google.colaboratory.intrinsic+json": {
              "type": "string"
            }
          },
          "metadata": {},
          "execution_count": 34
        }
      ]
    },
    {
      "cell_type": "code",
      "source": [
        "x=['data','science']\n",
        "\"\".join(x)"
      ],
      "metadata": {
        "id": "DHFPO_qoLOwm",
        "colab": {
          "base_uri": "https://localhost:8080/",
          "height": 36
        },
        "outputId": "a9113b3f-96ca-43ba-b213-3e5055617e86"
      },
      "execution_count": null,
      "outputs": [
        {
          "output_type": "execute_result",
          "data": {
            "text/plain": [
              "'datascience'"
            ],
            "application/vnd.google.colaboratory.intrinsic+json": {
              "type": "string"
            }
          },
          "metadata": {},
          "execution_count": 37
        }
      ]
    },
    {
      "cell_type": "code",
      "source": [
        "### list datatypes"
      ],
      "metadata": {
        "id": "U17-8YI4txw6"
      },
      "execution_count": null,
      "outputs": []
    },
    {
      "cell_type": "code",
      "source": [
        "x=[1,2.6,3+4j,\"data\"]"
      ],
      "metadata": {
        "id": "lRipQr-Wtxtl"
      },
      "execution_count": null,
      "outputs": []
    },
    {
      "cell_type": "code",
      "source": [
        "type(x)"
      ],
      "metadata": {
        "colab": {
          "base_uri": "https://localhost:8080/"
        },
        "id": "q-pykp7ZtxpH",
        "outputId": "aa7333ba-7dd6-461f-c68b-64994d0f3893"
      },
      "execution_count": null,
      "outputs": [
        {
          "output_type": "execute_result",
          "data": {
            "text/plain": [
              "list"
            ]
          },
          "metadata": {},
          "execution_count": 41
        }
      ]
    },
    {
      "cell_type": "code",
      "source": [
        "x"
      ],
      "metadata": {
        "colab": {
          "base_uri": "https://localhost:8080/"
        },
        "id": "QBohkUfUtxmW",
        "outputId": "9684d103-3be0-4d49-f3d5-a618c3786764"
      },
      "execution_count": null,
      "outputs": [
        {
          "output_type": "execute_result",
          "data": {
            "text/plain": [
              "[1, 2.6, (3+4j), 'data']"
            ]
          },
          "metadata": {},
          "execution_count": 42
        }
      ]
    },
    {
      "cell_type": "code",
      "source": [
        "x[0]"
      ],
      "metadata": {
        "colab": {
          "base_uri": "https://localhost:8080/"
        },
        "id": "CKCwz_Kotxjr",
        "outputId": "ba010a5f-c11b-4cb9-8c89-6769c708db86"
      },
      "execution_count": null,
      "outputs": [
        {
          "output_type": "execute_result",
          "data": {
            "text/plain": [
              "1"
            ]
          },
          "metadata": {},
          "execution_count": 43
        }
      ]
    },
    {
      "cell_type": "code",
      "source": [
        "x[1]"
      ],
      "metadata": {
        "colab": {
          "base_uri": "https://localhost:8080/"
        },
        "id": "N-FDaY5etxg1",
        "outputId": "58c12c4e-2d46-4e70-a6bd-e136961c477c"
      },
      "execution_count": null,
      "outputs": [
        {
          "output_type": "execute_result",
          "data": {
            "text/plain": [
              "2.6"
            ]
          },
          "metadata": {},
          "execution_count": 44
        }
      ]
    },
    {
      "cell_type": "code",
      "source": [
        "x[2:3]"
      ],
      "metadata": {
        "colab": {
          "base_uri": "https://localhost:8080/"
        },
        "id": "ON1n_-U0wPPr",
        "outputId": "bbda6a40-c249-46dc-a3d8-c47b0d7abf82"
      },
      "execution_count": null,
      "outputs": [
        {
          "output_type": "execute_result",
          "data": {
            "text/plain": [
              "[(3+4j)]"
            ]
          },
          "metadata": {},
          "execution_count": 45
        }
      ]
    },
    {
      "cell_type": "code",
      "source": [
        "x[1:3]"
      ],
      "metadata": {
        "colab": {
          "base_uri": "https://localhost:8080/"
        },
        "id": "yiOteUL8wPLy",
        "outputId": "28286a79-35f3-4a6e-e3d5-c143591d3ed9"
      },
      "execution_count": null,
      "outputs": [
        {
          "output_type": "execute_result",
          "data": {
            "text/plain": [
              "[2.6, (3+4j)]"
            ]
          },
          "metadata": {},
          "execution_count": 46
        }
      ]
    },
    {
      "cell_type": "code",
      "source": [
        "x[3:2]"
      ],
      "metadata": {
        "colab": {
          "base_uri": "https://localhost:8080/"
        },
        "id": "p0yeCcXgwPIb",
        "outputId": "0dfbcd9b-f36a-448b-c2d3-0059b6952244"
      },
      "execution_count": null,
      "outputs": [
        {
          "output_type": "execute_result",
          "data": {
            "text/plain": [
              "[]"
            ]
          },
          "metadata": {},
          "execution_count": 47
        }
      ]
    },
    {
      "cell_type": "code",
      "source": [
        "x"
      ],
      "metadata": {
        "colab": {
          "base_uri": "https://localhost:8080/"
        },
        "id": "A6O6_H7jtxeA",
        "outputId": "f8aa9327-1fee-4cf7-b47d-13925804078c"
      },
      "execution_count": null,
      "outputs": [
        {
          "output_type": "execute_result",
          "data": {
            "text/plain": [
              "[1, 2.6, (3+4j), 'data']"
            ]
          },
          "metadata": {},
          "execution_count": 48
        }
      ]
    },
    {
      "cell_type": "code",
      "source": [
        "\n",
        "print(x[0],type(x[0]))\n",
        "print(x[1],type(x[1]))\n",
        "print(x[2],type(x[2]))\n",
        "print(x[3],type(x[3]))"
      ],
      "metadata": {
        "colab": {
          "base_uri": "https://localhost:8080/"
        },
        "id": "LIJQevZ_txYr",
        "outputId": "72a1b636-c209-4aa8-bf3b-215c56ad7a3b"
      },
      "execution_count": null,
      "outputs": [
        {
          "output_type": "stream",
          "name": "stdout",
          "text": [
            "1 <class 'int'>\n",
            "2.6 <class 'float'>\n",
            "(3+4j) <class 'complex'>\n",
            "data <class 'str'>\n"
          ]
        }
      ]
    },
    {
      "cell_type": "code",
      "source": [
        "x"
      ],
      "metadata": {
        "colab": {
          "base_uri": "https://localhost:8080/"
        },
        "id": "J4GLDBD6x_wz",
        "outputId": "3531aacd-0f6d-4573-b143-4d969736254a"
      },
      "execution_count": null,
      "outputs": [
        {
          "output_type": "execute_result",
          "data": {
            "text/plain": [
              "[1, 2.6, (3+4j), 'data']"
            ]
          },
          "metadata": {},
          "execution_count": 50
        }
      ]
    },
    {
      "cell_type": "code",
      "source": [
        "x[-1].upper()[0:2]"
      ],
      "metadata": {
        "colab": {
          "base_uri": "https://localhost:8080/",
          "height": 36
        },
        "id": "-vin4HFMx_t0",
        "outputId": "ab01ee53-dc7c-4466-f746-55bc64163fcc"
      },
      "execution_count": null,
      "outputs": [
        {
          "output_type": "execute_result",
          "data": {
            "text/plain": [
              "'DA'"
            ],
            "application/vnd.google.colaboratory.intrinsic+json": {
              "type": "string"
            }
          },
          "metadata": {},
          "execution_count": 52
        }
      ]
    },
    {
      "cell_type": "code",
      "source": [
        "x"
      ],
      "metadata": {
        "colab": {
          "base_uri": "https://localhost:8080/"
        },
        "id": "zKuqy0LBx_qa",
        "outputId": "a0336d38-1e0a-42f8-bf0e-e5c2b7032c21"
      },
      "execution_count": null,
      "outputs": [
        {
          "output_type": "execute_result",
          "data": {
            "text/plain": [
              "[1, 2.6, (3+4j), 'data']"
            ]
          },
          "metadata": {},
          "execution_count": 53
        }
      ]
    },
    {
      "cell_type": "code",
      "source": [
        "x[-3]/2"
      ],
      "metadata": {
        "colab": {
          "base_uri": "https://localhost:8080/"
        },
        "id": "7OyRO-zyx_nL",
        "outputId": "cdf7dd71-80c1-4d94-ba23-d18f93090334"
      },
      "execution_count": null,
      "outputs": [
        {
          "output_type": "execute_result",
          "data": {
            "text/plain": [
              "1.3"
            ]
          },
          "metadata": {},
          "execution_count": 54
        }
      ]
    },
    {
      "cell_type": "code",
      "source": [
        "x"
      ],
      "metadata": {
        "colab": {
          "base_uri": "https://localhost:8080/"
        },
        "id": "eoSuZg9Vx_kx",
        "outputId": "be946204-669d-4825-e20f-439ac79d4b4e"
      },
      "execution_count": null,
      "outputs": [
        {
          "output_type": "execute_result",
          "data": {
            "text/plain": [
              "[1, 2.6, (3+4j), 'data']"
            ]
          },
          "metadata": {},
          "execution_count": 55
        }
      ]
    },
    {
      "cell_type": "code",
      "source": [
        "(x[0]+x[1])/2"
      ],
      "metadata": {
        "colab": {
          "base_uri": "https://localhost:8080/"
        },
        "id": "Tp-hjwrWx_iC",
        "outputId": "29869365-a3c7-4aea-b905-6709d036f008"
      },
      "execution_count": null,
      "outputs": [
        {
          "output_type": "execute_result",
          "data": {
            "text/plain": [
              "1.8"
            ]
          },
          "metadata": {},
          "execution_count": 56
        }
      ]
    },
    {
      "cell_type": "code",
      "source": [
        "x=[1,2,3,4]\n",
        "x[-1]+x[1]"
      ],
      "metadata": {
        "colab": {
          "base_uri": "https://localhost:8080/"
        },
        "id": "cP2Frs_ox_fh",
        "outputId": "d36a212f-ee48-458d-9ec3-a7fbbcdf2e57"
      },
      "execution_count": null,
      "outputs": [
        {
          "output_type": "execute_result",
          "data": {
            "text/plain": [
              "6"
            ]
          },
          "metadata": {},
          "execution_count": 59
        }
      ]
    },
    {
      "cell_type": "code",
      "source": [
        "x"
      ],
      "metadata": {
        "colab": {
          "base_uri": "https://localhost:8080/"
        },
        "id": "vmw47RBVx_aE",
        "outputId": "1fa8efba-57f4-4592-c964-141c060f13ad"
      },
      "execution_count": null,
      "outputs": [
        {
          "output_type": "execute_result",
          "data": {
            "text/plain": [
              "[1, 2, 3, 4]"
            ]
          },
          "metadata": {},
          "execution_count": 60
        }
      ]
    },
    {
      "cell_type": "code",
      "source": [
        "x[-2]/x[2]"
      ],
      "metadata": {
        "colab": {
          "base_uri": "https://localhost:8080/"
        },
        "id": "VxYmAX1jx_X5",
        "outputId": "02cd05f7-1529-4a23-f6e9-bccc0746c1ad"
      },
      "execution_count": null,
      "outputs": [
        {
          "output_type": "execute_result",
          "data": {
            "text/plain": [
              "1.0"
            ]
          },
          "metadata": {},
          "execution_count": 61
        }
      ]
    },
    {
      "cell_type": "code",
      "source": [
        "x=['data','science',['machine','learing']]"
      ],
      "metadata": {
        "id": "zQAbOup-x_VM"
      },
      "execution_count": null,
      "outputs": []
    },
    {
      "cell_type": "code",
      "source": [
        "x"
      ],
      "metadata": {
        "colab": {
          "base_uri": "https://localhost:8080/"
        },
        "id": "2YlQd18yx_Sm",
        "outputId": "f13062ee-4728-4aa4-ff58-8bf7f1ece4a6"
      },
      "execution_count": null,
      "outputs": [
        {
          "output_type": "execute_result",
          "data": {
            "text/plain": [
              "['data', 'science', ['machine', 'learing']]"
            ]
          },
          "metadata": {},
          "execution_count": 63
        }
      ]
    },
    {
      "cell_type": "code",
      "source": [
        "weekly_sales = [\n",
        "    [\"chennai\", [12000, 15000, 17000]], # Mon, Tue, Wed\n",
        "    [\"Delhi\",[10000, 11000, 10500]],\n",
        "    [\"kolkata\", [9000, 9500, 9800]]\n",
        "]\n",
        "weekly_sales[1][1]"
      ],
      "metadata": {
        "id": "6CenZV0JSr27",
        "outputId": "6677fdc4-171f-418e-8539-1042b9645d91",
        "colab": {
          "base_uri": "https://localhost:8080/"
        }
      },
      "execution_count": null,
      "outputs": [
        {
          "output_type": "execute_result",
          "data": {
            "text/plain": [
              "[10000, 11000, 10500]"
            ]
          },
          "metadata": {},
          "execution_count": 4
        }
      ]
    },
    {
      "cell_type": "code",
      "source": [
        "weekly_sales = [\n",
        "    [\"chennai\", [12000, 15000, 17000]], # Mon, Tue, Wed\n",
        "    [\"Delhi\",[10000, 11000, 10500]],\n",
        "    [\"kolkata\", [9000, 9500, 9800]]\n",
        "]\n",
        "weekly_sales[2][1][0]\n"
      ],
      "metadata": {
        "id": "ow4Mq8C7SryI",
        "outputId": "f210e8a8-00c7-420e-d7d2-fb100ada04cc",
        "colab": {
          "base_uri": "https://localhost:8080/"
        }
      },
      "execution_count": null,
      "outputs": [
        {
          "output_type": "execute_result",
          "data": {
            "text/plain": [
              "9000"
            ]
          },
          "metadata": {},
          "execution_count": 8
        }
      ]
    },
    {
      "cell_type": "code",
      "source": [
        "weekly_sales = [\n",
        "    [\"chennai\", [12000, 15000, 17000]], # Mon, Tue, Wed\n",
        "    [\"Delhi\",[10000, 11000, 10500]],\n",
        "    [\"kolkata\", [9000, 9500, 9800]]\n",
        "]\n",
        "weekly_sales[1][0]"
      ],
      "metadata": {
        "id": "fngnElclSrvi",
        "outputId": "bb0670b0-5c1e-4612-c34b-dc5c867586b1",
        "colab": {
          "base_uri": "https://localhost:8080/",
          "height": 36
        }
      },
      "execution_count": null,
      "outputs": [
        {
          "output_type": "execute_result",
          "data": {
            "text/plain": [
              "'Delhi'"
            ],
            "application/vnd.google.colaboratory.intrinsic+json": {
              "type": "string"
            }
          },
          "metadata": {},
          "execution_count": 9
        }
      ]
    },
    {
      "cell_type": "code",
      "source": [
        "weekly_sales[0][1][-1]"
      ],
      "metadata": {
        "id": "-Dgv8FrVSpYE",
        "outputId": "aa674937-f4e1-4521-fb65-bafa38b58781",
        "colab": {
          "base_uri": "https://localhost:8080/"
        }
      },
      "execution_count": null,
      "outputs": [
        {
          "output_type": "execute_result",
          "data": {
            "text/plain": [
              "17000"
            ]
          },
          "metadata": {},
          "execution_count": 10
        }
      ]
    },
    {
      "cell_type": "code",
      "source": [
        "weekly_sales[0][0],weekly_sales[1][0],weekly_sales[2][0]"
      ],
      "metadata": {
        "id": "loABlIOfSpUR",
        "outputId": "40d682af-417b-45e9-d2ec-4ef520a3d6cc",
        "colab": {
          "base_uri": "https://localhost:8080/"
        }
      },
      "execution_count": null,
      "outputs": [
        {
          "output_type": "execute_result",
          "data": {
            "text/plain": [
              "('chennai', 'Delhi', 'kolkata')"
            ]
          },
          "metadata": {},
          "execution_count": 13
        }
      ]
    },
    {
      "cell_type": "code",
      "source": [
        "weekly_sales[1][1]"
      ],
      "metadata": {
        "id": "K-d3Qmc8SpSD",
        "outputId": "7c6f88ba-f382-4786-a680-acb37fff7423",
        "colab": {
          "base_uri": "https://localhost:8080/"
        }
      },
      "execution_count": null,
      "outputs": [
        {
          "output_type": "execute_result",
          "data": {
            "text/plain": [
              "[10000, 11000, 10500]"
            ]
          },
          "metadata": {},
          "execution_count": 16
        }
      ]
    },
    {
      "cell_type": "code",
      "source": [
        "weekly_sales[0][1][1]+weekly_sales[1][1][1]+weekly_sales[2][1][1]"
      ],
      "metadata": {
        "id": "0Vkx5AWdSpOW",
        "outputId": "a8181de4-31f4-49cb-c349-f94650b4532c",
        "colab": {
          "base_uri": "https://localhost:8080/"
        }
      },
      "execution_count": null,
      "outputs": [
        {
          "output_type": "execute_result",
          "data": {
            "text/plain": [
              "35500"
            ]
          },
          "metadata": {},
          "execution_count": 17
        }
      ]
    },
    {
      "cell_type": "code",
      "source": [
        "weekly_sales[2][1][0]+weekly_sales[2][1][1]+weekly_sales[2][1][2]"
      ],
      "metadata": {
        "id": "KBEIH8dpSpMN",
        "outputId": "6c008dec-7d49-4312-be10-0bb8246bc8a4",
        "colab": {
          "base_uri": "https://localhost:8080/"
        }
      },
      "execution_count": null,
      "outputs": [
        {
          "output_type": "execute_result",
          "data": {
            "text/plain": [
              "28300"
            ]
          },
          "metadata": {},
          "execution_count": 18
        }
      ]
    },
    {
      "cell_type": "code",
      "source": [
        "weekly_sales[0][1][0]+weekly_sales[0][1][1]+weekly_sales[0][1][2]/3"
      ],
      "metadata": {
        "id": "_UhestIASpIN",
        "outputId": "93341c7c-5911-493a-b225-751f1dc73479",
        "colab": {
          "base_uri": "https://localhost:8080/"
        }
      },
      "execution_count": null,
      "outputs": [
        {
          "output_type": "execute_result",
          "data": {
            "text/plain": [
              "32666.666666666668"
            ]
          },
          "metadata": {},
          "execution_count": 19
        }
      ]
    },
    {
      "cell_type": "code",
      "source": [
        "weekly_sales[0][0]"
      ],
      "metadata": {
        "id": "edtLe4LrSpGA",
        "outputId": "cb28d7b4-9e6b-4eed-fd5d-31929a921d42",
        "colab": {
          "base_uri": "https://localhost:8080/",
          "height": 36
        }
      },
      "execution_count": null,
      "outputs": [
        {
          "output_type": "execute_result",
          "data": {
            "text/plain": [
              "'chennai'"
            ],
            "application/vnd.google.colaboratory.intrinsic+json": {
              "type": "string"
            }
          },
          "metadata": {},
          "execution_count": 20
        }
      ]
    },
    {
      "cell_type": "code",
      "source": [
        "weekly_sales[2][0]"
      ],
      "metadata": {
        "id": "EZvl3nN3SpCX",
        "outputId": "ec69992e-dacc-47cf-8472-ad016b47ac37",
        "colab": {
          "base_uri": "https://localhost:8080/",
          "height": 36
        }
      },
      "execution_count": null,
      "outputs": [
        {
          "output_type": "execute_result",
          "data": {
            "text/plain": [
              "'kolkata'"
            ],
            "application/vnd.google.colaboratory.intrinsic+json": {
              "type": "string"
            }
          },
          "metadata": {},
          "execution_count": 22
        }
      ]
    },
    {
      "cell_type": "code",
      "source": [
        "weekly_sales[2][1][2]-weekly_sales[2][1][0]"
      ],
      "metadata": {
        "id": "2rwMWQSaSpAS",
        "outputId": "b103eb8f-5df9-4b5d-9113-970d3fbba61e",
        "colab": {
          "base_uri": "https://localhost:8080/"
        }
      },
      "execution_count": null,
      "outputs": [
        {
          "output_type": "execute_result",
          "data": {
            "text/plain": [
              "800"
            ]
          },
          "metadata": {},
          "execution_count": 23
        }
      ]
    },
    {
      "cell_type": "code",
      "source": [
        "weekly_sales[0][1][2]"
      ],
      "metadata": {
        "id": "4QOtksCqSo8o",
        "outputId": "ed55c016-e24b-4dec-c903-dfe452582232",
        "colab": {
          "base_uri": "https://localhost:8080/"
        }
      },
      "execution_count": null,
      "outputs": [
        {
          "output_type": "execute_result",
          "data": {
            "text/plain": [
              "17000"
            ]
          },
          "metadata": {},
          "execution_count": 24
        }
      ]
    },
    {
      "cell_type": "code",
      "source": [
        "weekly_sales[1][1][0]+weekly_sales[1][1][1]+weekly_sales[1][1][2]<weekly_sales[0][1][0]+weekly_sales[0][1][1]+weekly_sales[0][1][2]"
      ],
      "metadata": {
        "id": "jhCC2X-gSo2i",
        "outputId": "bd4e74a8-ee5f-413a-dbf8-a87f468c3f26",
        "colab": {
          "base_uri": "https://localhost:8080/"
        }
      },
      "execution_count": null,
      "outputs": [
        {
          "output_type": "execute_result",
          "data": {
            "text/plain": [
              "True"
            ]
          },
          "metadata": {},
          "execution_count": 25
        }
      ]
    },
    {
      "cell_type": "code",
      "source": [
        "x=[1,2,3,4]"
      ],
      "metadata": {
        "id": "hGVYMCsiSo0h"
      },
      "execution_count": null,
      "outputs": []
    },
    {
      "cell_type": "code",
      "source": [
        "x"
      ],
      "metadata": {
        "id": "j3rC5owHSoyZ",
        "colab": {
          "base_uri": "https://localhost:8080/"
        },
        "outputId": "8bf31aa0-4d3b-481d-e480-dea85560413e"
      },
      "execution_count": null,
      "outputs": [
        {
          "output_type": "execute_result",
          "data": {
            "text/plain": [
              "[1, 2, 3, 4]"
            ]
          },
          "metadata": {},
          "execution_count": 82
        }
      ]
    },
    {
      "cell_type": "code",
      "source": [
        "x.append(20)"
      ],
      "metadata": {
        "id": "7FJx_ZOvSotA"
      },
      "execution_count": null,
      "outputs": []
    },
    {
      "cell_type": "code",
      "source": [
        "x"
      ],
      "metadata": {
        "id": "y00U3rW2SoqV",
        "colab": {
          "base_uri": "https://localhost:8080/"
        },
        "outputId": "e2bf2923-156c-44ef-d759-5b66ab607d2a"
      },
      "execution_count": null,
      "outputs": [
        {
          "output_type": "execute_result",
          "data": {
            "text/plain": [
              "[1, 2, 3, 4, 20]"
            ]
          },
          "metadata": {},
          "execution_count": 85
        }
      ]
    },
    {
      "cell_type": "code",
      "source": [
        "x"
      ],
      "metadata": {
        "id": "7bO1JQ4ESomt",
        "colab": {
          "base_uri": "https://localhost:8080/"
        },
        "outputId": "a41c4b06-d15a-45cf-bb28-af35017ae84e"
      },
      "execution_count": null,
      "outputs": [
        {
          "output_type": "execute_result",
          "data": {
            "text/plain": [
              "[1, 2, 3, 4, 20]"
            ]
          },
          "metadata": {},
          "execution_count": 86
        }
      ]
    },
    {
      "cell_type": "code",
      "source": [
        "x.extend(\"data\")"
      ],
      "metadata": {
        "id": "dqJfxdgXSoki"
      },
      "execution_count": null,
      "outputs": []
    },
    {
      "cell_type": "code",
      "source": [
        "x"
      ],
      "metadata": {
        "id": "7ltngJNnSohi",
        "colab": {
          "base_uri": "https://localhost:8080/"
        },
        "outputId": "445db900-b9d3-4144-c76b-39c228cbd541"
      },
      "execution_count": null,
      "outputs": [
        {
          "output_type": "execute_result",
          "data": {
            "text/plain": [
              "[1, 2, 3, 4, 20, 'd', 'a', 't', 'a', 'd', 'a', 't', 'a']"
            ]
          },
          "metadata": {},
          "execution_count": 89
        }
      ]
    },
    {
      "cell_type": "code",
      "source": [
        "x=[1,2,3]\n",
        "y=[4,5,6]\n"
      ],
      "metadata": {
        "id": "bnhmMs9DSoea"
      },
      "execution_count": null,
      "outputs": []
    },
    {
      "cell_type": "code",
      "source": [
        "x.append(y)"
      ],
      "metadata": {
        "id": "2hqbeEoBSoa_"
      },
      "execution_count": null,
      "outputs": []
    },
    {
      "cell_type": "code",
      "source": [
        "x"
      ],
      "metadata": {
        "id": "Tmd9ZRgfSoJi",
        "colab": {
          "base_uri": "https://localhost:8080/"
        },
        "outputId": "46766ac3-430b-4677-c42d-93f9a8630e86"
      },
      "execution_count": null,
      "outputs": [
        {
          "output_type": "execute_result",
          "data": {
            "text/plain": [
              "[1, 2, 3, [4, 5, 6]]"
            ]
          },
          "metadata": {},
          "execution_count": 92
        }
      ]
    },
    {
      "cell_type": "code",
      "source": [
        "x=[1,2,3]\n",
        "y=[4,5,6]\n",
        "x.extend(y)"
      ],
      "metadata": {
        "id": "4SabfGaySoGA"
      },
      "execution_count": null,
      "outputs": []
    },
    {
      "cell_type": "code",
      "source": [
        "x"
      ],
      "metadata": {
        "id": "OxCscoUZSoD3",
        "colab": {
          "base_uri": "https://localhost:8080/"
        },
        "outputId": "d8800bdc-3475-4ecd-eae1-a74f54f4c092"
      },
      "execution_count": null,
      "outputs": [
        {
          "output_type": "execute_result",
          "data": {
            "text/plain": [
              "[1, 2, 3, [4, 5, 6]]"
            ]
          },
          "metadata": {},
          "execution_count": 93
        }
      ]
    },
    {
      "cell_type": "code",
      "source": [
        "x=[1,2,3,4]\n",
        "x.remove(2)"
      ],
      "metadata": {
        "id": "UlK9bNKQSoAo"
      },
      "execution_count": null,
      "outputs": []
    },
    {
      "cell_type": "code",
      "source": [
        "x"
      ],
      "metadata": {
        "id": "75gQQ3-uSn9w",
        "colab": {
          "base_uri": "https://localhost:8080/"
        },
        "outputId": "13df1ae5-61f1-475b-9124-b1ccc523ca76"
      },
      "execution_count": null,
      "outputs": [
        {
          "output_type": "execute_result",
          "data": {
            "text/plain": [
              "[1, 3, 4]"
            ]
          },
          "metadata": {},
          "execution_count": 97
        }
      ]
    },
    {
      "cell_type": "code",
      "source": [
        "x=[1,2,2,2,3,3,3,3,4,]\n",
        "x.count(3)"
      ],
      "metadata": {
        "id": "GIUUGy2ZSn0s",
        "colab": {
          "base_uri": "https://localhost:8080/"
        },
        "outputId": "a26fb6ac-900e-442e-f88f-515283df9328"
      },
      "execution_count": null,
      "outputs": [
        {
          "output_type": "execute_result",
          "data": {
            "text/plain": [
              "4"
            ]
          },
          "metadata": {},
          "execution_count": 109
        }
      ]
    },
    {
      "cell_type": "code",
      "source": [
        "x.index(2,3,4)### first occurance index"
      ],
      "metadata": {
        "id": "L0L4Hf_4SnyH",
        "colab": {
          "base_uri": "https://localhost:8080/"
        },
        "outputId": "82e7cf67-8b61-4d25-8e85-669359bc5791"
      },
      "execution_count": null,
      "outputs": [
        {
          "output_type": "execute_result",
          "data": {
            "text/plain": [
              "3"
            ]
          },
          "metadata": {},
          "execution_count": 114
        }
      ]
    },
    {
      "cell_type": "code",
      "source": [
        "from google.colab import drive\n",
        "drive.mount('/content/drive')"
      ],
      "metadata": {
        "id": "v7uqbuvkJ6jE"
      },
      "execution_count": null,
      "outputs": []
    },
    {
      "cell_type": "code",
      "source": [],
      "metadata": {
        "id": "TYVySidASnuq"
      },
      "execution_count": null,
      "outputs": []
    },
    {
      "cell_type": "code",
      "source": [],
      "metadata": {
        "id": "reY5m2b4Snqw"
      },
      "execution_count": null,
      "outputs": []
    },
    {
      "cell_type": "code",
      "source": [],
      "metadata": {
        "id": "1NIQF-VSSneU"
      },
      "execution_count": null,
      "outputs": []
    },
    {
      "cell_type": "code",
      "source": [],
      "metadata": {
        "id": "tJzqDa3mSnao"
      },
      "execution_count": null,
      "outputs": []
    },
    {
      "cell_type": "code",
      "source": [],
      "metadata": {
        "id": "-ISEQcX6SnOW"
      },
      "execution_count": null,
      "outputs": []
    },
    {
      "cell_type": "code",
      "source": [],
      "metadata": {
        "id": "fleDWAiuSnDJ"
      },
      "execution_count": null,
      "outputs": []
    },
    {
      "cell_type": "code",
      "source": [],
      "metadata": {
        "id": "VlRc2CPRSmxr"
      },
      "execution_count": null,
      "outputs": []
    },
    {
      "cell_type": "code",
      "source": [],
      "metadata": {
        "id": "WYKsaJzeSlxn"
      },
      "execution_count": null,
      "outputs": []
    }
  ],
  "metadata": {
    "colab": {
      "provenance": []
    },
    "kernelspec": {
      "display_name": "Python 3",
      "name": "python3"
    }
  },
  "nbformat": 4,
  "nbformat_minor": 0
}