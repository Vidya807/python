{
  "cells": [
    {
      "cell_type": "code",
      "source": [
        "a=10\n",
        "b=10\n",
        "type(a)"
      ],
      "metadata": {
        "id": "Nf9NRD-U-8JR",
        "outputId": "33b37447-52b2-4636-ec5e-850e9851bc51",
        "colab": {
          "base_uri": "https://localhost:8080/"
        }
      },
      "execution_count": null,
      "outputs": [
        {
          "output_type": "execute_result",
          "data": {
            "text/plain": [
              "int"
            ]
          },
          "metadata": {},
          "execution_count": 1
        }
      ]
    },
    {
      "cell_type": "code",
      "source": [
        "a=9.6+2j\n",
        "type(a)"
      ],
      "metadata": {
        "id": "ncNIkTCc-xfx",
        "outputId": "84b3bd0e-54e6-4819-a87f-5f28f544499d",
        "colab": {
          "base_uri": "https://localhost:8080/"
        }
      },
      "execution_count": null,
      "outputs": [
        {
          "output_type": "execute_result",
          "data": {
            "text/plain": [
              "complex"
            ]
          },
          "metadata": {},
          "execution_count": 2
        }
      ]
    },
    {
      "cell_type": "code",
      "source": [
        "string='''data science\n",
        "machine learing'''\n",
        "type(string)"
      ],
      "metadata": {
        "id": "uVZHiIOO-zvq",
        "outputId": "d4b90534-993a-4cdb-cc4d-c1ddc895d69c",
        "colab": {
          "base_uri": "https://localhost:8080/"
        }
      },
      "execution_count": null,
      "outputs": [
        {
          "output_type": "execute_result",
          "data": {
            "text/plain": [
              "str"
            ]
          },
          "metadata": {},
          "execution_count": 3
        }
      ]
    },
    {
      "cell_type": "code",
      "source": [
        "string"
      ],
      "metadata": {
        "id": "14wdNOTj-ztu",
        "outputId": "0005ee3c-9fbc-42fb-978d-757370204cdf",
        "colab": {
          "base_uri": "https://localhost:8080/",
          "height": 36
        }
      },
      "execution_count": null,
      "outputs": [
        {
          "output_type": "execute_result",
          "data": {
            "text/plain": [
              "'data science \\nmachine learing'"
            ],
            "application/vnd.google.colaboratory.intrinsic+json": {
              "type": "string"
            }
          },
          "metadata": {},
          "execution_count": 4
        }
      ]
    },
    {
      "cell_type": "code",
      "source": [
        "\"manchine lear'ning\""
      ],
      "metadata": {
        "id": "jSKIOBgoBNer",
        "outputId": "8fa7551e-51db-4e27-9a75-591cbea53c2a",
        "colab": {
          "base_uri": "https://localhost:8080/",
          "height": 36
        }
      },
      "execution_count": null,
      "outputs": [
        {
          "output_type": "execute_result",
          "data": {
            "text/plain": [
              "\"manchine lear'ning\""
            ],
            "application/vnd.google.colaboratory.intrinsic+json": {
              "type": "string"
            }
          },
          "metadata": {},
          "execution_count": 5
        }
      ]
    },
    {
      "cell_type": "code",
      "source": [
        "string='Machine learning'\n",
        "type(string)"
      ],
      "metadata": {
        "id": "IcCBwfjw-zkI",
        "outputId": "697bf7d4-80b2-40a2-c5a7-f1b8299e6745",
        "colab": {
          "base_uri": "https://localhost:8080/"
        }
      },
      "execution_count": null,
      "outputs": [
        {
          "output_type": "execute_result",
          "data": {
            "text/plain": [
              "str"
            ]
          },
          "metadata": {},
          "execution_count": 6
        }
      ]
    },
    {
      "cell_type": "code",
      "source": [
        "string"
      ],
      "metadata": {
        "id": "YH-7mGnW-zfI",
        "outputId": "e270b05a-7496-4692-a48a-04231a6ed90f",
        "colab": {
          "base_uri": "https://localhost:8080/",
          "height": 36
        }
      },
      "execution_count": null,
      "outputs": [
        {
          "output_type": "execute_result",
          "data": {
            "text/plain": [
              "'Machine learning'"
            ],
            "application/vnd.google.colaboratory.intrinsic+json": {
              "type": "string"
            }
          },
          "metadata": {},
          "execution_count": 8
        }
      ]
    },
    {
      "cell_type": "code",
      "source": [
        "string[0:3]"
      ],
      "metadata": {
        "id": "YfeKZ3Le-zcv",
        "outputId": "512e4e66-52a8-4f5e-d3b6-4d70104fb2c1",
        "colab": {
          "base_uri": "https://localhost:8080/",
          "height": 36
        }
      },
      "execution_count": null,
      "outputs": [
        {
          "output_type": "execute_result",
          "data": {
            "text/plain": [
              "'Mac'"
            ],
            "application/vnd.google.colaboratory.intrinsic+json": {
              "type": "string"
            }
          },
          "metadata": {},
          "execution_count": 9
        }
      ]
    },
    {
      "cell_type": "code",
      "source": [
        "string[2:4]"
      ],
      "metadata": {
        "id": "5PAzXEvsB-hB",
        "outputId": "bcfe3d60-a24d-4b7c-c5a6-7e270bb440f4",
        "colab": {
          "base_uri": "https://localhost:8080/",
          "height": 36
        }
      },
      "execution_count": null,
      "outputs": [
        {
          "output_type": "execute_result",
          "data": {
            "text/plain": [
              "'ch'"
            ],
            "application/vnd.google.colaboratory.intrinsic+json": {
              "type": "string"
            }
          },
          "metadata": {},
          "execution_count": 10
        }
      ]
    },
    {
      "cell_type": "code",
      "source": [
        "string[-3:-6]"
      ],
      "metadata": {
        "id": "BZipI0-SB_KC",
        "outputId": "5e15b081-4a42-4d16-fa92-486a692ac10b",
        "colab": {
          "base_uri": "https://localhost:8080/",
          "height": 36
        }
      },
      "execution_count": null,
      "outputs": [
        {
          "output_type": "execute_result",
          "data": {
            "text/plain": [
              "''"
            ],
            "application/vnd.google.colaboratory.intrinsic+json": {
              "type": "string"
            }
          },
          "metadata": {},
          "execution_count": 11
        }
      ]
    },
    {
      "cell_type": "code",
      "source": [
        "string[-6:-2]"
      ],
      "metadata": {
        "id": "0qf-LmPgB_XN",
        "outputId": "f8d927d7-833a-4a5d-fba5-84088bfb45d4",
        "colab": {
          "base_uri": "https://localhost:8080/",
          "height": 36
        }
      },
      "execution_count": null,
      "outputs": [
        {
          "output_type": "execute_result",
          "data": {
            "text/plain": [
              "'arni'"
            ],
            "application/vnd.google.colaboratory.intrinsic+json": {
              "type": "string"
            }
          },
          "metadata": {},
          "execution_count": 12
        }
      ]
    },
    {
      "cell_type": "code",
      "source": [
        "string[7]"
      ],
      "metadata": {
        "id": "mF0fPk5rB_iy",
        "outputId": "d87e7e5c-78a1-4515-a2bc-547aef57ff25",
        "colab": {
          "base_uri": "https://localhost:8080/",
          "height": 36
        }
      },
      "execution_count": null,
      "outputs": [
        {
          "output_type": "execute_result",
          "data": {
            "text/plain": [
              "' '"
            ],
            "application/vnd.google.colaboratory.intrinsic+json": {
              "type": "string"
            }
          },
          "metadata": {},
          "execution_count": 13
        }
      ]
    },
    {
      "cell_type": "code",
      "source": [
        "string[-4]"
      ],
      "metadata": {
        "id": "jXre1PiwB_n6",
        "outputId": "88e4f571-4893-4f34-f743-4f7af5780775",
        "colab": {
          "base_uri": "https://localhost:8080/",
          "height": 36
        }
      },
      "execution_count": null,
      "outputs": [
        {
          "output_type": "execute_result",
          "data": {
            "text/plain": [
              "'n'"
            ],
            "application/vnd.google.colaboratory.intrinsic+json": {
              "type": "string"
            }
          },
          "metadata": {},
          "execution_count": 14
        }
      ]
    },
    {
      "cell_type": "code",
      "source": [
        "string[-3:]"
      ],
      "metadata": {
        "id": "zLbMzrWqB_tg",
        "outputId": "3dfe65ce-a8a2-481a-eacd-4635dee8bffa",
        "colab": {
          "base_uri": "https://localhost:8080/",
          "height": 36
        }
      },
      "execution_count": null,
      "outputs": [
        {
          "output_type": "execute_result",
          "data": {
            "text/plain": [
              "'ing'"
            ],
            "application/vnd.google.colaboratory.intrinsic+json": {
              "type": "string"
            }
          },
          "metadata": {},
          "execution_count": 15
        }
      ]
    },
    {
      "cell_type": "code",
      "source": [
        "string=\"bhogini vidya\"\n",
        "string.upper()"
      ],
      "metadata": {
        "id": "mWGdPUNrCAzZ",
        "outputId": "05147a8f-8036-47e5-8e90-bc169f867e1d",
        "colab": {
          "base_uri": "https://localhost:8080/",
          "height": 36
        }
      },
      "execution_count": null,
      "outputs": [
        {
          "output_type": "execute_result",
          "data": {
            "text/plain": [
              "'BHOGINI VIDYA'"
            ],
            "application/vnd.google.colaboratory.intrinsic+json": {
              "type": "string"
            }
          },
          "metadata": {},
          "execution_count": 16
        }
      ]
    },
    {
      "cell_type": "code",
      "source": [
        "string=\"bhogini vidya\"\n",
        "string.lower()"
      ],
      "metadata": {
        "id": "6D5H0s80CA4E",
        "outputId": "72354877-29be-41a4-da54-373d22505b4e",
        "colab": {
          "base_uri": "https://localhost:8080/",
          "height": 36
        }
      },
      "execution_count": null,
      "outputs": [
        {
          "output_type": "execute_result",
          "data": {
            "text/plain": [
              "'bhogini vidya'"
            ],
            "application/vnd.google.colaboratory.intrinsic+json": {
              "type": "string"
            }
          },
          "metadata": {},
          "execution_count": 17
        }
      ]
    },
    {
      "cell_type": "code",
      "source": [
        "string=\"bhogini vidya\"\n",
        "string.islower()"
      ],
      "metadata": {
        "id": "mXvDSCyrCA84",
        "outputId": "c63e284f-1a43-49be-be70-ecd7ed6615d0",
        "colab": {
          "base_uri": "https://localhost:8080/"
        }
      },
      "execution_count": null,
      "outputs": [
        {
          "output_type": "execute_result",
          "data": {
            "text/plain": [
              "True"
            ]
          },
          "metadata": {},
          "execution_count": 18
        }
      ]
    },
    {
      "cell_type": "code",
      "source": [
        "string=\"bhogini vidya\"\n",
        "string.isupper()"
      ],
      "metadata": {
        "id": "h3m5fjd7CBCb",
        "outputId": "fba8ed60-4b28-45eb-c2ec-a99af4bb759c",
        "colab": {
          "base_uri": "https://localhost:8080/"
        }
      },
      "execution_count": null,
      "outputs": [
        {
          "output_type": "execute_result",
          "data": {
            "text/plain": [
              "False"
            ]
          },
          "metadata": {},
          "execution_count": 19
        }
      ]
    },
    {
      "cell_type": "code",
      "source": [
        "string=\"BHOGINI VIDYA\"\n",
        "string.islower()"
      ],
      "metadata": {
        "id": "mHPYZh27CBJQ",
        "outputId": "6c2b4bd3-baf8-4df8-b783-6a458a218e4e",
        "colab": {
          "base_uri": "https://localhost:8080/"
        }
      },
      "execution_count": null,
      "outputs": [
        {
          "output_type": "execute_result",
          "data": {
            "text/plain": [
              "False"
            ]
          },
          "metadata": {},
          "execution_count": 20
        }
      ]
    },
    {
      "cell_type": "code",
      "source": [
        "stringstring=\"BHOGINI VIDYA\"\n",
        "string.isupper()"
      ],
      "metadata": {
        "id": "Veahp_DY-zFW",
        "outputId": "425c52e3-a0ee-4802-8c81-f5ca4904ce54",
        "colab": {
          "base_uri": "https://localhost:8080/"
        }
      },
      "execution_count": null,
      "outputs": [
        {
          "output_type": "execute_result",
          "data": {
            "text/plain": [
              "True"
            ]
          },
          "metadata": {},
          "execution_count": 21
        }
      ]
    },
    {
      "cell_type": "code",
      "source": [
        "string=\"Machine learing\"\n",
        "string.title()"
      ],
      "metadata": {
        "id": "B6-Ej_O0-zC2",
        "outputId": "c792412d-81b0-44f8-8a20-8dcc85f1b827",
        "colab": {
          "base_uri": "https://localhost:8080/",
          "height": 36
        }
      },
      "execution_count": null,
      "outputs": [
        {
          "output_type": "execute_result",
          "data": {
            "text/plain": [
              "'Machine Learing'"
            ],
            "application/vnd.google.colaboratory.intrinsic+json": {
              "type": "string"
            }
          },
          "metadata": {},
          "execution_count": 22
        }
      ]
    },
    {
      "cell_type": "code",
      "source": [
        "string=\"machine learing\"\n",
        "string.capitalize()"
      ],
      "metadata": {
        "id": "wIYPOSFJ-y__",
        "outputId": "c1eea463-6449-4a66-a100-ebe59ad4500b",
        "colab": {
          "base_uri": "https://localhost:8080/",
          "height": 36
        }
      },
      "execution_count": null,
      "outputs": [
        {
          "output_type": "execute_result",
          "data": {
            "text/plain": [
              "'Machine learing'"
            ],
            "application/vnd.google.colaboratory.intrinsic+json": {
              "type": "string"
            }
          },
          "metadata": {},
          "execution_count": 24
        }
      ]
    },
    {
      "cell_type": "code",
      "source": [
        "string=\"Bhogini Vidya\"\n",
        "string.swapcase()"
      ],
      "metadata": {
        "id": "cdC2XTnI-y9Q",
        "outputId": "5679edeb-1491-4e04-d4ba-e7ebce186483",
        "colab": {
          "base_uri": "https://localhost:8080/",
          "height": 36
        }
      },
      "execution_count": null,
      "outputs": [
        {
          "output_type": "execute_result",
          "data": {
            "text/plain": [
              "'bHOGINI vIDYA'"
            ],
            "application/vnd.google.colaboratory.intrinsic+json": {
              "type": "string"
            }
          },
          "metadata": {},
          "execution_count": 25
        }
      ]
    },
    {
      "cell_type": "code",
      "source": [
        "string=\"bhogini vidya\"\n",
        "string.swapcase()"
      ],
      "metadata": {
        "id": "XycjbPVB-yq0",
        "outputId": "fcd86a5a-7bc7-4d1d-9fa6-553828469347",
        "colab": {
          "base_uri": "https://localhost:8080/",
          "height": 36
        }
      },
      "execution_count": null,
      "outputs": [
        {
          "output_type": "execute_result",
          "data": {
            "text/plain": [
              "'BHOGINI VIDYA'"
            ],
            "application/vnd.google.colaboratory.intrinsic+json": {
              "type": "string"
            }
          },
          "metadata": {},
          "execution_count": 26
        }
      ]
    },
    {
      "cell_type": "code",
      "source": [
        "string=\"bhogini vidya\"\n",
        "string.isalpha()"
      ],
      "metadata": {
        "id": "1H32-7A1-ynQ",
        "outputId": "92383ddc-0b2b-4680-ae3e-d5116ea8beb7",
        "colab": {
          "base_uri": "https://localhost:8080/"
        }
      },
      "execution_count": null,
      "outputs": [
        {
          "output_type": "execute_result",
          "data": {
            "text/plain": [
              "False"
            ]
          },
          "metadata": {},
          "execution_count": 27
        }
      ]
    },
    {
      "cell_type": "code",
      "source": [
        "string=\"bhogini55vidya\"\n",
        "string.isalnum()"
      ],
      "metadata": {
        "id": "ZUOjcAXl-yko",
        "outputId": "bcf27cbc-f96d-4d6a-bfd5-053dc8fa44f4",
        "colab": {
          "base_uri": "https://localhost:8080/"
        }
      },
      "execution_count": null,
      "outputs": [
        {
          "output_type": "execute_result",
          "data": {
            "text/plain": [
              "True"
            ]
          },
          "metadata": {},
          "execution_count": 31
        }
      ]
    },
    {
      "cell_type": "code",
      "source": [
        "string=\"2003\"\n",
        "string.isnumeric()"
      ],
      "metadata": {
        "id": "SNOVZ9BT-yhx",
        "outputId": "8d7a198a-d5ae-4b14-cf41-36a189dd1950",
        "colab": {
          "base_uri": "https://localhost:8080/"
        }
      },
      "execution_count": null,
      "outputs": [
        {
          "output_type": "execute_result",
          "data": {
            "text/plain": [
              "True"
            ]
          },
          "metadata": {},
          "execution_count": 32
        }
      ]
    },
    {
      "cell_type": "code",
      "source": [
        "string=\"machine learing\"\n",
        "string.startswith('machine')"
      ],
      "metadata": {
        "id": "3WI7tkix-yfF",
        "outputId": "2d06ac6f-9ea0-460f-9d37-245d6039dba0",
        "colab": {
          "base_uri": "https://localhost:8080/"
        }
      },
      "execution_count": null,
      "outputs": [
        {
          "output_type": "execute_result",
          "data": {
            "text/plain": [
              "True"
            ]
          },
          "metadata": {},
          "execution_count": 33
        }
      ]
    },
    {
      "cell_type": "code",
      "source": [
        "string=\"bhogini vidya\"\n",
        "string.startswith('vidya')"
      ],
      "metadata": {
        "id": "8Lrb6XKB-ycc",
        "outputId": "e8972630-3a66-49a3-96a1-520f9ce160f4",
        "colab": {
          "base_uri": "https://localhost:8080/"
        }
      },
      "execution_count": null,
      "outputs": [
        {
          "output_type": "execute_result",
          "data": {
            "text/plain": [
              "False"
            ]
          },
          "metadata": {},
          "execution_count": 34
        }
      ]
    },
    {
      "cell_type": "code",
      "source": [
        "string=\"bhogini vidya\"\n",
        "string.startswith('bhogini')"
      ],
      "metadata": {
        "id": "2AzBlCSa-yZ6",
        "outputId": "24d6a07d-cb89-4101-b653-7da211b9fd4b",
        "colab": {
          "base_uri": "https://localhost:8080/"
        }
      },
      "execution_count": null,
      "outputs": [
        {
          "output_type": "execute_result",
          "data": {
            "text/plain": [
              "True"
            ]
          },
          "metadata": {},
          "execution_count": 36
        }
      ]
    },
    {
      "cell_type": "code",
      "source": [
        "string=\"bhogini vidya\"\n",
        "string.endswith('bhogini')"
      ],
      "metadata": {
        "id": "9pzwZOvT-yXE",
        "outputId": "53a39ad2-c517-43b0-dd82-b81e19074869",
        "colab": {
          "base_uri": "https://localhost:8080/"
        }
      },
      "execution_count": null,
      "outputs": [
        {
          "output_type": "execute_result",
          "data": {
            "text/plain": [
              "False"
            ]
          },
          "metadata": {},
          "execution_count": 37
        }
      ]
    },
    {
      "cell_type": "code",
      "source": [
        "string=\"bhogini vidya\"\n",
        "string.endswith(\"\")"
      ],
      "metadata": {
        "id": "ehMjoXTfHYrs",
        "outputId": "87388760-8737-44ec-bc40-2131cb49b475",
        "colab": {
          "base_uri": "https://localhost:8080/"
        }
      },
      "execution_count": null,
      "outputs": [
        {
          "output_type": "execute_result",
          "data": {
            "text/plain": [
              "True"
            ]
          },
          "metadata": {},
          "execution_count": 38
        }
      ]
    },
    {
      "cell_type": "code",
      "source": [
        "string=\"\"\n",
        "string.isspace()"
      ],
      "metadata": {
        "id": "3OLSEs2rHYpN",
        "outputId": "fbae6ac2-be73-477c-8f45-da0ac374f675",
        "colab": {
          "base_uri": "https://localhost:8080/"
        }
      },
      "execution_count": null,
      "outputs": [
        {
          "output_type": "execute_result",
          "data": {
            "text/plain": [
              "False"
            ]
          },
          "metadata": {},
          "execution_count": 39
        }
      ]
    },
    {
      "cell_type": "code",
      "source": [
        "string=\"machine learing\"\n",
        "string.split(\"a\")"
      ],
      "metadata": {
        "id": "UTzcGT6QHYnB",
        "outputId": "dc73e8c5-75b3-44a6-833f-6cdea138a338",
        "colab": {
          "base_uri": "https://localhost:8080/"
        }
      },
      "execution_count": null,
      "outputs": [
        {
          "output_type": "execute_result",
          "data": {
            "text/plain": [
              "['m', 'chine le', 'ring']"
            ]
          },
          "metadata": {},
          "execution_count": 40
        }
      ]
    },
    {
      "cell_type": "code",
      "source": [
        "string=\"bhogini vidya\"\n",
        "string.split(\"a\")"
      ],
      "metadata": {
        "id": "JL53dNyyHYkW",
        "outputId": "f2ced071-544c-41c8-ac81-111c092b7188",
        "colab": {
          "base_uri": "https://localhost:8080/"
        }
      },
      "execution_count": null,
      "outputs": [
        {
          "output_type": "execute_result",
          "data": {
            "text/plain": [
              "['bhogini vidy', '']"
            ]
          },
          "metadata": {},
          "execution_count": 41
        }
      ]
    },
    {
      "cell_type": "code",
      "source": [
        "string=\"machine learing\"\n",
        "string.split()"
      ],
      "metadata": {
        "id": "j8g_fZy5HYiN",
        "outputId": "93475100-e3f4-4c90-a174-172046ae1d5f",
        "colab": {
          "base_uri": "https://localhost:8080/"
        }
      },
      "execution_count": null,
      "outputs": [
        {
          "output_type": "execute_result",
          "data": {
            "text/plain": [
              "['machine', 'learing']"
            ]
          },
          "metadata": {},
          "execution_count": 42
        }
      ]
    },
    {
      "cell_type": "code",
      "source": [],
      "metadata": {
        "id": "NqZ3GIprHYfm"
      },
      "execution_count": null,
      "outputs": []
    },
    {
      "cell_type": "code",
      "source": [],
      "metadata": {
        "id": "eEbi1aSuHYc3"
      },
      "execution_count": null,
      "outputs": []
    },
    {
      "cell_type": "code",
      "source": [],
      "metadata": {
        "id": "UI2vybwRHYaO"
      },
      "execution_count": null,
      "outputs": []
    },
    {
      "cell_type": "code",
      "source": [],
      "metadata": {
        "id": "kUdSCztzHYXn"
      },
      "execution_count": null,
      "outputs": []
    },
    {
      "cell_type": "code",
      "source": [],
      "metadata": {
        "id": "swL5Z-zeHYVA"
      },
      "execution_count": null,
      "outputs": []
    },
    {
      "cell_type": "code",
      "source": [],
      "metadata": {
        "id": "72AghDI0HYSf"
      },
      "execution_count": null,
      "outputs": []
    },
    {
      "cell_type": "code",
      "source": [],
      "metadata": {
        "id": "-2d6VmHE-yT4"
      },
      "execution_count": null,
      "outputs": []
    }
  ],
  "metadata": {
    "colab": {
      "provenance": []
    },
    "kernelspec": {
      "display_name": "Python 3",
      "name": "python3"
    }
  },
  "nbformat": 4,
  "nbformat_minor": 0
}